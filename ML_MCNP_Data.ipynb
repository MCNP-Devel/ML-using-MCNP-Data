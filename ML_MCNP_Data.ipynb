{
 "cells": [
  {
   "cell_type": "markdown",
   "metadata": {
    "collapsed": true
   },
   "source": [
    "Analysis and ML model development for simulated neutron transport in ducts of varying geometry. Targets are reflection and transmission probability, with features: radius, length, and shielding thickness (cm). Models are separated by shielding material and energy regimes (i.e. fast and thermal). Each model contains 100 observations.  "
   ]
  },
  {
   "cell_type": "code",
   "execution_count": 7,
   "metadata": {
    "collapsed": true
   },
   "outputs": [],
   "source": [
    "import numpy as np \n",
    "import pandas as pd \n",
    "import matplotlib\n",
    "import matplotlib.pyplot as plt \n",
    "from mpl_toolkits.mplot3d import Axes3D\n",
    "from matplotlib import cm \n",
    "import matplotlib.cm as cmx"
   ]
  },
  {
   "cell_type": "code",
   "execution_count": 8,
   "metadata": {},
   "outputs": [
    {
     "name": "stdout",
     "output_type": "stream",
     "text": [
      "Number of Observations :  100\n"
     ]
    },
    {
     "data": {
      "text/html": [
       "<div>\n",
       "<table border=\"1\" class=\"dataframe\">\n",
       "  <thead>\n",
       "    <tr style=\"text-align: right;\">\n",
       "      <th></th>\n",
       "      <th>Radius</th>\n",
       "      <th>Length</th>\n",
       "      <th>Shield</th>\n",
       "      <th>ReflectionFT</th>\n",
       "      <th>TransmissionFT</th>\n",
       "      <th>ReflectionFF</th>\n",
       "      <th>TransmissionFF</th>\n",
       "      <th>ReflectionGT</th>\n",
       "      <th>TransmissionGT</th>\n",
       "      <th>ReflectionGF</th>\n",
       "      <th>TransmissionGF</th>\n",
       "      <th>ReflectionCT</th>\n",
       "      <th>TransmissionCT</th>\n",
       "      <th>ReflectionCF</th>\n",
       "      <th>TransmissionCF</th>\n",
       "    </tr>\n",
       "  </thead>\n",
       "  <tbody>\n",
       "    <tr>\n",
       "      <th>0</th>\n",
       "      <td>29</td>\n",
       "      <td>36</td>\n",
       "      <td>44</td>\n",
       "      <td>0.139221</td>\n",
       "      <td>0.425529</td>\n",
       "      <td>0.120497</td>\n",
       "      <td>0.423237</td>\n",
       "      <td>0.189780</td>\n",
       "      <td>0.480296</td>\n",
       "      <td>0.055113</td>\n",
       "      <td>0.366465</td>\n",
       "      <td>0.167630</td>\n",
       "      <td>0.479509</td>\n",
       "      <td>0.051100</td>\n",
       "      <td>0.369375</td>\n",
       "    </tr>\n",
       "    <tr>\n",
       "      <th>1</th>\n",
       "      <td>41</td>\n",
       "      <td>91</td>\n",
       "      <td>63</td>\n",
       "      <td>0.165289</td>\n",
       "      <td>0.243827</td>\n",
       "      <td>0.192585</td>\n",
       "      <td>0.285640</td>\n",
       "      <td>0.287433</td>\n",
       "      <td>0.344022</td>\n",
       "      <td>0.104332</td>\n",
       "      <td>0.233379</td>\n",
       "      <td>0.219326</td>\n",
       "      <td>0.312380</td>\n",
       "      <td>0.081297</td>\n",
       "      <td>0.220486</td>\n",
       "    </tr>\n",
       "    <tr>\n",
       "      <th>2</th>\n",
       "      <td>3</td>\n",
       "      <td>106</td>\n",
       "      <td>24</td>\n",
       "      <td>0.109648</td>\n",
       "      <td>0.000877</td>\n",
       "      <td>0.043616</td>\n",
       "      <td>0.001129</td>\n",
       "      <td>0.090093</td>\n",
       "      <td>0.000941</td>\n",
       "      <td>0.017106</td>\n",
       "      <td>0.001078</td>\n",
       "      <td>0.096021</td>\n",
       "      <td>0.000980</td>\n",
       "      <td>0.016738</td>\n",
       "      <td>0.000989</td>\n",
       "    </tr>\n",
       "    <tr>\n",
       "      <th>3</th>\n",
       "      <td>46</td>\n",
       "      <td>142</td>\n",
       "      <td>74</td>\n",
       "      <td>0.172234</td>\n",
       "      <td>0.157008</td>\n",
       "      <td>0.225308</td>\n",
       "      <td>0.209037</td>\n",
       "      <td>0.335952</td>\n",
       "      <td>0.266735</td>\n",
       "      <td>0.136262</td>\n",
       "      <td>0.175718</td>\n",
       "      <td>0.236277</td>\n",
       "      <td>0.220133</td>\n",
       "      <td>0.091753</td>\n",
       "      <td>0.149330</td>\n",
       "    </tr>\n",
       "    <tr>\n",
       "      <th>4</th>\n",
       "      <td>18</td>\n",
       "      <td>462</td>\n",
       "      <td>22</td>\n",
       "      <td>0.162576</td>\n",
       "      <td>0.001692</td>\n",
       "      <td>0.077067</td>\n",
       "      <td>0.002156</td>\n",
       "      <td>0.151774</td>\n",
       "      <td>0.001726</td>\n",
       "      <td>0.029091</td>\n",
       "      <td>0.001967</td>\n",
       "      <td>0.169257</td>\n",
       "      <td>0.001985</td>\n",
       "      <td>0.028816</td>\n",
       "      <td>0.001909</td>\n",
       "    </tr>\n",
       "  </tbody>\n",
       "</table>\n",
       "</div>"
      ],
      "text/plain": [
       "   Radius  Length  Shield  ReflectionFT  TransmissionFT  ReflectionFF  \\\n",
       "0      29      36      44      0.139221        0.425529      0.120497   \n",
       "1      41      91      63      0.165289        0.243827      0.192585   \n",
       "2       3     106      24      0.109648        0.000877      0.043616   \n",
       "3      46     142      74      0.172234        0.157008      0.225308   \n",
       "4      18     462      22      0.162576        0.001692      0.077067   \n",
       "\n",
       "   TransmissionFF  ReflectionGT  TransmissionGT  ReflectionGF  TransmissionGF  \\\n",
       "0        0.423237      0.189780        0.480296      0.055113        0.366465   \n",
       "1        0.285640      0.287433        0.344022      0.104332        0.233379   \n",
       "2        0.001129      0.090093        0.000941      0.017106        0.001078   \n",
       "3        0.209037      0.335952        0.266735      0.136262        0.175718   \n",
       "4        0.002156      0.151774        0.001726      0.029091        0.001967   \n",
       "\n",
       "   ReflectionCT  TransmissionCT  ReflectionCF  TransmissionCF  \n",
       "0      0.167630        0.479509      0.051100        0.369375  \n",
       "1      0.219326        0.312380      0.081297        0.220486  \n",
       "2      0.096021        0.000980      0.016738        0.000989  \n",
       "3      0.236277        0.220133      0.091753        0.149330  \n",
       "4      0.169257        0.001985      0.028816        0.001909  "
      ]
     },
     "execution_count": 8,
     "metadata": {},
     "output_type": "execute_result"
    }
   ],
   "source": [
    "df = pd.read_csv('MCResults.csv')\n",
    "df = pd.DataFrame(df)\n",
    "print(\"Number of Observations : \", len(df))\n",
    "df.head()"
   ]
  },
  {
   "cell_type": "code",
   "execution_count": 9,
   "metadata": {},
   "outputs": [
    {
     "data": {
      "image/png": "[encoded data removed]",
      "text/plain": [
       "<matplotlib.figure.Figure at 0x110b964a8>"
      ]
     },
     "metadata": {},
     "output_type": "display_data"
    },
    {
     "data": {
      "text/plain": [
       "<matplotlib.figure.Figure at 0x110b96470>"
      ]
     },
     "metadata": {},
     "output_type": "display_data"
    }
   ],
   "source": [
    "fig, ((ax1,ax2,ax3),(ax4,ax5,ax6),(ax7,ax8,ax9)) = plt.subplots(3,3,sharey=True)\n",
    "axs = [ax1,ax2,ax3,ax4,ax5,ax6,ax7,ax8,ax9]\n",
    "colors = [ '#00FFFF','#008B8B','#B8860B', '#A9A9A9','#006400','#BDB76B',\n",
    "          '#8B008B','#556B2F','#FF8C00']\n",
    "labels = ['Radius (cm)','Length (cm)','Shield (cm)']\n",
    "for i in range(len(axs)):\n",
    "          if i < 3:\n",
    "             axs[i].scatter(df.iloc[:,i],df['ReflectionFT'],\n",
    "                            color=colors[i])\n",
    "             axs[i].set_facecolor('white')\n",
    "             axs[i].set_xlabel(labels[i])\n",
    "\n",
    "          if (i >= 3 and i < 6):\n",
    "              axs[i].scatter(df.iloc[:,i-3],df['ReflectionGT'],\n",
    "                             color=colors[i])\n",
    "              axs[i].set_facecolor('white')\n",
    "              axs[i].set_xlabel(labels[i-3])\n",
    "          \n",
    "          if i >=6 : \n",
    "              axs[i].scatter(df.iloc[:,i-6],df['ReflectionCT'],\n",
    "                             color=colors[i])\n",
    "              axs[i].set_facecolor('white')\n",
    "              axs[i].set_xlabel(labels[i-6])\n",
    "\n",
    "\n",
    "ax1.set_ylabel('RP Iron')\n",
    "ax4.set_ylabel('RP Graphite')\n",
    "ax7.set_ylabel('RP Concrete')\n",
    "plt.suptitle(\"Reflection Probability of Thermal Neutrons by Shielding Material\", y = 1.01)\n",
    "plt.rcParams[\"axes.grid\"] = True\n",
    "plt.tight_layout()\n",
    "#plt.savefig(\"RP_Ducts.png\",bbox_inches='tight',format='png')\n",
    "plt.figure()\n",
    "plt.show()"
   ]
  },
  {
   "cell_type": "code",
   "execution_count": 10,
   "metadata": {},
   "outputs": [
    {
     "data": {
      "image/png": "[encoded data removed]",
      "text/plain": [
       "<matplotlib.figure.Figure at 0x110b9b390>"
      ]
     },
     "metadata": {},
     "output_type": "display_data"
    },
    {
     "data": {
      "text/plain": [
       "<matplotlib.figure.Figure at 0x110b9b358>"
      ]
     },
     "metadata": {},
     "output_type": "display_data"
    }
   ],
   "source": [
    "fig, ((ax1,ax2,ax3)) = plt.subplots(1,3,sharey=True)\n",
    "axs = [ax1,ax2,ax3]\n",
    "colors = ['#00FFFF','#008B8B','#B8860B']\n",
    "labels = ['Radius (cm)','Length (cm)','Shield (cm)']\n",
    "for i in range(len(axs)):\n",
    "    axs[i].scatter((df.iloc[:,i]),(df['ReflectionFT']),\n",
    "                   color=colors[i])\n",
    "    axs[i].set_facecolor('white')\n",
    "    axs[i].grid(False)\n",
    "    axs[i].set_xlabel(labels[i])\n",
    "\n",
    "ax1.set_ylabel('Reflection Probability')\n",
    "plt.rcParams[\"axes.grid\"] = True\n",
    "plt.suptitle('Reflection Probability of Thermal Neutrons in Iron Ducts')\n",
    "\n",
    "plt.figure()\n",
    "plt.show()"
   ]
  },
  {
   "cell_type": "code",
   "execution_count": 12,
   "metadata": {
    "scrolled": true
   },
   "outputs": [
    {
     "data": {
      "image/png": "[encoded data removed]",
      "text/plain": [
       "<matplotlib.figure.Figure at 0x11128a390>"
      ]
     },
     "metadata": {},
     "output_type": "display_data"
    },
    {
     "data": {
      "text/plain": [
       "<matplotlib.figure.Figure at 0x111512e48>"
      ]
     },
     "metadata": {},
     "output_type": "display_data"
    }
   ],
   "source": [
    "x = df['Radius']\n",
    "y = df['Length']\n",
    "z = df['ReflectionFT']\n",
    "vmax = 100\n",
    "fig = plt.figure()\n",
    "ax = fig.add_subplot(1,1,1, projection='3d', azim=210)\n",
    "ax.scatter(x,y,z, color='red')\n",
    "ax.set_title('Reflection Probability of Thermal Neutrons in Iron Duct',y=1.04)\n",
    "ax.set_facecolor('white')\n",
    "ax.grid(False)\n",
    "ax.set_xlabel('Radius',fontsize=12)\n",
    "ax.set_ylabel('Shield',fontsize=12)\n",
    "ax.set_zlabel('Reflection Prob',fontsize=12)\n",
    "plt.figure()\n",
    "plt.show()"
   ]
  },
  {
   "cell_type": "code",
   "execution_count": 13,
   "metadata": {},
   "outputs": [
    {
     "data": {
      "image/png": "[encoded data removed]",
      "text/plain": [
       "<matplotlib.figure.Figure at 0x111489748>"
      ]
     },
     "metadata": {},
     "output_type": "display_data"
    }
   ],
   "source": [
    "\n",
    "radius = df['Radius']\n",
    "length = df['Length']\n",
    "shield = df['Shield'] \n",
    "RP = df['ReflectionFT']\n",
    "cm = plt.get_cmap('jet')\n",
    "cNorm = matplotlib.colors.Normalize(vmin=min(RP), vmax=max(RP))\n",
    "scalarMap = cmx.ScalarMappable(norm=cNorm, cmap=cm)\n",
    "fig = plt.figure()\n",
    "ax = Axes3D(fig)\n",
    "ax.scatter(radius, shield,length, c=scalarMap.to_rgba(RP),s=100)\n",
    "scalarMap.set_array(RP)\n",
    "fig.colorbar(scalarMap,label='Reflection Probability',shrink=0.5,pad=0.05)\n",
    "ax.set_xlabel('Radius',fontsize=12)\n",
    "ax.set_ylabel('Shield',fontsize=12)\n",
    "ax.set_zlabel('Length',fontsize=12)\n",
    "ax.set_title('Reflection Probability of Thermal Neutrons in Iron Ducts',y=1.05)\n",
    "ax.set_facecolor('white')\n",
    "ax.grid(False)\n",
    "plt.show()"
   ]
  },
  {
   "cell_type": "code",
   "execution_count": 14,
   "metadata": {
    "collapsed": true
   },
   "outputs": [],
   "source": [
    "#transfom dataframe columns to arrays\n",
    "X = np.array([radius,length,shield])\n",
    "X= X.reshape(100,3)\n",
    "y= np.array(RP)"
   ]
  },
  {
   "cell_type": "code",
   "execution_count": 15,
   "metadata": {
    "collapsed": true
   },
   "outputs": [],
   "source": [
    "from sklearn.model_selection import train_test_split\n",
    "from sklearn.linear_model import LinearRegression\n",
    "X_train,X_test,y_train,y_test= train_test_split(X,y,random_state=0)"
   ]
  },
  {
   "cell_type": "code",
   "execution_count": 16,
   "metadata": {},
   "outputs": [
    {
     "name": "stdout",
     "output_type": "stream",
     "text": [
      "Intercept: 0.1516585136738065\n",
      "Radius Coeff: 2.8268779111253013e-05\n",
      "Length Coeff: -4.858323584048566e-05\n",
      "Shield Coeff: 4.938678729921496e-05\n",
      "R-squared score (training set): 0.08285747753736505\n",
      "R-squared score (test set): -0.10577209088895256\n"
     ]
    }
   ],
   "source": [
    "linreg = LinearRegression().fit(X_train, y_train)\n",
    "print('Intercept: {}'.format(linreg.intercept_))\n",
    "print('Radius Coeff: {}'.format(linreg.coef_[0]))\n",
    "print('Length Coeff: {}'.format(linreg.coef_[1]))\n",
    "print('Shield Coeff: {}'.format(linreg.coef_[2]))\n",
    "print('R-squared score (training set): {}'.format(linreg.score(X_train, y_train)))\n",
    "print('R-squared score (test set): {}'.format(linreg.score(X_test, y_test)))"
   ]
  },
  {
   "cell_type": "code",
   "execution_count": 17,
   "metadata": {},
   "outputs": [
    {
     "data": {
      "text/html": [
       "<div>\n",
       "<table border=\"1\" class=\"dataframe\">\n",
       "  <thead>\n",
       "    <tr style=\"text-align: right;\">\n",
       "      <th></th>\n",
       "      <th>log_radius</th>\n",
       "      <th>log_length</th>\n",
       "      <th>log_shield</th>\n",
       "      <th>Reflection Probability</th>\n",
       "    </tr>\n",
       "  </thead>\n",
       "  <tbody>\n",
       "    <tr>\n",
       "      <th>0</th>\n",
       "      <td>3.367296</td>\n",
       "      <td>3.583519</td>\n",
       "      <td>3.784190</td>\n",
       "      <td>0.139221</td>\n",
       "    </tr>\n",
       "    <tr>\n",
       "      <th>1</th>\n",
       "      <td>3.713572</td>\n",
       "      <td>4.510860</td>\n",
       "      <td>4.143135</td>\n",
       "      <td>0.165289</td>\n",
       "    </tr>\n",
       "    <tr>\n",
       "      <th>2</th>\n",
       "      <td>1.098612</td>\n",
       "      <td>4.663439</td>\n",
       "      <td>3.178054</td>\n",
       "      <td>0.109648</td>\n",
       "    </tr>\n",
       "    <tr>\n",
       "      <th>3</th>\n",
       "      <td>3.828641</td>\n",
       "      <td>4.955827</td>\n",
       "      <td>4.304065</td>\n",
       "      <td>0.172234</td>\n",
       "    </tr>\n",
       "    <tr>\n",
       "      <th>4</th>\n",
       "      <td>2.890372</td>\n",
       "      <td>6.135565</td>\n",
       "      <td>3.091042</td>\n",
       "      <td>0.162576</td>\n",
       "    </tr>\n",
       "  </tbody>\n",
       "</table>\n",
       "</div>"
      ],
      "text/plain": [
       "   log_radius  log_length  log_shield  Reflection Probability\n",
       "0    3.367296    3.583519    3.784190                0.139221\n",
       "1    3.713572    4.510860    4.143135                0.165289\n",
       "2    1.098612    4.663439    3.178054                0.109648\n",
       "3    3.828641    4.955827    4.304065                0.172234\n",
       "4    2.890372    6.135565    3.091042                0.162576"
      ]
     },
     "execution_count": 17,
     "metadata": {},
     "output_type": "execute_result"
    }
   ],
   "source": [
    "df2 = pd.DataFrame()\n",
    "df2['log_radius'] = np.log(radius)\n",
    "df2['log_length'] = np.log(length)\n",
    "df2['log_shield'] = np.log(shield)\n",
    "df2['Reflection Probability'] = df['ReflectionFT']\n",
    "df2.head()"
   ]
  },
  {
   "cell_type": "code",
   "execution_count": 18,
   "metadata": {},
   "outputs": [
    {
     "name": "stdout",
     "output_type": "stream",
     "text": [
      "(100, 3) (100,)\n"
     ]
    }
   ],
   "source": [
    "X2 = np.array(df2.iloc[:,0:3])\n",
    "y2= np.array(df2['Reflection Probability'])\n",
    "print(X2.shape,y2.shape)"
   ]
  },
  {
   "cell_type": "code",
   "execution_count": 19,
   "metadata": {},
   "outputs": [
    {
     "name": "stdout",
     "output_type": "stream",
     "text": [
      "Intercept: 0.009201023548535664\n",
      "Radius Coeff: 0.013780055744952148\n",
      "Length Coeff: 0.016412765412551263\n",
      "Shield Coeff: 0.005055778995546058\n",
      "R-squared score (training set): 0.6034608799093595\n",
      "R-squared score (test set): 0.614412093552843\n"
     ]
    }
   ],
   "source": [
    "X2_train,X2_test,y2_train,y2_test= train_test_split(X2,y2,random_state=0)\n",
    "linreg2 = LinearRegression().fit(X2_train, y2_train)\n",
    "print('Intercept: {}'.format(linreg2.intercept_))\n",
    "print('Radius Coeff: {}'.format(linreg2.coef_[0]))\n",
    "print('Length Coeff: {}'.format(linreg2.coef_[1]))\n",
    "print('Shield Coeff: {}'.format(linreg2.coef_[2]))\n",
    "print('R-squared score (training set): {}'.format(linreg2.score(X2_train, y2_train)))\n",
    "print('R-squared score (test set): {}'.format(linreg2.score(X2_test, y2_test)))"
   ]
  },
  {
   "cell_type": "code",
   "execution_count": 20,
   "metadata": {},
   "outputs": [
    {
     "name": "stdout",
     "output_type": "stream",
     "text": [
      "   Radius  Length  Shield  log_radius  log_length  log_shield  \\\n",
      "0      29      36      44    3.367296    3.583519    3.784190   \n",
      "1      41      91      63    3.713572    4.510860    4.143135   \n",
      "2       3     106      24    1.098612    4.663439    3.178054   \n",
      "3      46     142      74    3.828641    4.955827    4.304065   \n",
      "4      18     462      22    2.890372    6.135565    3.091042   \n",
      "\n",
      "   Reflection Probability  \n",
      "0                0.139221  \n",
      "1                0.165289  \n",
      "2                0.109648  \n",
      "3                0.172234  \n",
      "4                0.162576   (100, 6) (100,)\n"
     ]
    }
   ],
   "source": [
    "df3 = pd.concat([df.iloc[:,0:3],df2],axis=1)\n",
    "X3 = np.array(df3.iloc[:,0:6])\n",
    "y3= np.array(df3['Reflection Probability'])\n",
    "print(df3.head(),X3.shape,y3.shape)"
   ]
  },
  {
   "cell_type": "code",
   "execution_count": 21,
   "metadata": {},
   "outputs": [
    {
     "name": "stdout",
     "output_type": "stream",
     "text": [
      "Intercept: -0.07891272030908539\n",
      "Radius Coeff: -0.0012160136103073497\n",
      "Length Coeff: -0.00014684930973873296\n",
      "Shield Coeff: 0.0003783024005277247\n",
      "Log Radius Coeff: 0.031136266879160882\n",
      "Log Length Coeff: 0.03718102058467703\n",
      "Log Shield Coeff: -0.0008811966755963923\n",
      "R-squared score (training set): 0.7379485635243799\n",
      "R-squared score (test set): 0.8765256162593799\n"
     ]
    }
   ],
   "source": [
    "X3_train,X3_test,y3_train,y3_test= train_test_split(X3,y3,random_state=0)\n",
    "linreg3 = LinearRegression().fit(X3_train, y3_train)\n",
    "print('Intercept: {}'.format(linreg3.intercept_))\n",
    "print('Radius Coeff: {}'.format(linreg3.coef_[0]))\n",
    "print('Length Coeff: {}'.format(linreg3.coef_[1]))\n",
    "print('Shield Coeff: {}'.format(linreg3.coef_[2]))\n",
    "print('Log Radius Coeff: {}'.format(linreg3.coef_[3]))\n",
    "print('Log Length Coeff: {}'.format(linreg3.coef_[4]))\n",
    "print('Log Shield Coeff: {}'.format(linreg3.coef_[5]))\n",
    "print('R-squared score (training set): {}'.format(linreg3.score(X3_train, y3_train)))\n",
    "print('R-squared score (test set): {}'.format(linreg3.score(X3_test, y3_test)))"
   ]
  },
  {
   "cell_type": "code",
   "execution_count": 22,
   "metadata": {},
   "outputs": [
    {
     "data": {
      "text/html": [
       "<div>\n",
       "<table border=\"1\" class=\"dataframe\">\n",
       "  <thead>\n",
       "    <tr style=\"text-align: right;\">\n",
       "      <th></th>\n",
       "      <th>radius_cr</th>\n",
       "      <th>length_cr</th>\n",
       "      <th>shield_cr</th>\n",
       "      <th>radius_nir</th>\n",
       "      <th>length_nir</th>\n",
       "      <th>shield_nir</th>\n",
       "    </tr>\n",
       "  </thead>\n",
       "  <tbody>\n",
       "    <tr>\n",
       "      <th>0</th>\n",
       "      <td>3.072317</td>\n",
       "      <td>3.301927</td>\n",
       "      <td>3.530348</td>\n",
       "      <td>-5.385165</td>\n",
       "      <td>-6.000000</td>\n",
       "      <td>-6.633250</td>\n",
       "    </tr>\n",
       "    <tr>\n",
       "      <th>1</th>\n",
       "      <td>3.448217</td>\n",
       "      <td>4.497941</td>\n",
       "      <td>3.979057</td>\n",
       "      <td>-6.403124</td>\n",
       "      <td>-9.539392</td>\n",
       "      <td>-7.937254</td>\n",
       "    </tr>\n",
       "    <tr>\n",
       "      <th>2</th>\n",
       "      <td>1.442250</td>\n",
       "      <td>4.732623</td>\n",
       "      <td>2.884499</td>\n",
       "      <td>-1.732051</td>\n",
       "      <td>-10.295630</td>\n",
       "      <td>-4.898979</td>\n",
       "    </tr>\n",
       "    <tr>\n",
       "      <th>3</th>\n",
       "      <td>3.583048</td>\n",
       "      <td>5.217103</td>\n",
       "      <td>4.198336</td>\n",
       "      <td>-6.782330</td>\n",
       "      <td>-11.916375</td>\n",
       "      <td>-8.602325</td>\n",
       "    </tr>\n",
       "    <tr>\n",
       "      <th>4</th>\n",
       "      <td>2.620741</td>\n",
       "      <td>7.730614</td>\n",
       "      <td>2.802039</td>\n",
       "      <td>-4.242641</td>\n",
       "      <td>-21.494185</td>\n",
       "      <td>-4.690416</td>\n",
       "    </tr>\n",
       "  </tbody>\n",
       "</table>\n",
       "</div>"
      ],
      "text/plain": [
       "   radius_cr  length_cr  shield_cr  radius_nir  length_nir  shield_nir\n",
       "0   3.072317   3.301927   3.530348   -5.385165   -6.000000   -6.633250\n",
       "1   3.448217   4.497941   3.979057   -6.403124   -9.539392   -7.937254\n",
       "2   1.442250   4.732623   2.884499   -1.732051  -10.295630   -4.898979\n",
       "3   3.583048   5.217103   4.198336   -6.782330  -11.916375   -8.602325\n",
       "4   2.620741   7.730614   2.802039   -4.242641  -21.494185   -4.690416"
      ]
     },
     "execution_count": 22,
     "metadata": {},
     "output_type": "execute_result"
    }
   ],
   "source": [
    "df4 = pd.DataFrame()\n",
    "df4['radius_cr'] = radius**(1/3)\n",
    "df4['length_cr'] = length**(1/3)\n",
    "df4['shield_cr'] = shield**(1/3)\n",
    "df4['radius_nir'] = -radius**(1/2)\n",
    "df4['length_nir'] = -length**(1/2)\n",
    "df4['shield_nir'] = -shield**(1/2)\n",
    "df4.head()"
   ]
  },
  {
   "cell_type": "code",
   "execution_count": 23,
   "metadata": {},
   "outputs": [
    {
     "data": {
      "text/html": [
       "<div>\n",
       "<table border=\"1\" class=\"dataframe\">\n",
       "  <thead>\n",
       "    <tr style=\"text-align: right;\">\n",
       "      <th></th>\n",
       "      <th>radius_cr</th>\n",
       "      <th>length_cr</th>\n",
       "      <th>shield_cr</th>\n",
       "      <th>Radius</th>\n",
       "      <th>Length</th>\n",
       "      <th>Shield</th>\n",
       "      <th>log_radius</th>\n",
       "      <th>log_length</th>\n",
       "      <th>log_shield</th>\n",
       "      <th>Reflection Probability</th>\n",
       "    </tr>\n",
       "  </thead>\n",
       "  <tbody>\n",
       "    <tr>\n",
       "      <th>0</th>\n",
       "      <td>3.072317</td>\n",
       "      <td>3.301927</td>\n",
       "      <td>3.530348</td>\n",
       "      <td>29</td>\n",
       "      <td>36</td>\n",
       "      <td>44</td>\n",
       "      <td>3.367296</td>\n",
       "      <td>3.583519</td>\n",
       "      <td>3.784190</td>\n",
       "      <td>0.139221</td>\n",
       "    </tr>\n",
       "    <tr>\n",
       "      <th>1</th>\n",
       "      <td>3.448217</td>\n",
       "      <td>4.497941</td>\n",
       "      <td>3.979057</td>\n",
       "      <td>41</td>\n",
       "      <td>91</td>\n",
       "      <td>63</td>\n",
       "      <td>3.713572</td>\n",
       "      <td>4.510860</td>\n",
       "      <td>4.143135</td>\n",
       "      <td>0.165289</td>\n",
       "    </tr>\n",
       "    <tr>\n",
       "      <th>2</th>\n",
       "      <td>1.442250</td>\n",
       "      <td>4.732623</td>\n",
       "      <td>2.884499</td>\n",
       "      <td>3</td>\n",
       "      <td>106</td>\n",
       "      <td>24</td>\n",
       "      <td>1.098612</td>\n",
       "      <td>4.663439</td>\n",
       "      <td>3.178054</td>\n",
       "      <td>0.109648</td>\n",
       "    </tr>\n",
       "    <tr>\n",
       "      <th>3</th>\n",
       "      <td>3.583048</td>\n",
       "      <td>5.217103</td>\n",
       "      <td>4.198336</td>\n",
       "      <td>46</td>\n",
       "      <td>142</td>\n",
       "      <td>74</td>\n",
       "      <td>3.828641</td>\n",
       "      <td>4.955827</td>\n",
       "      <td>4.304065</td>\n",
       "      <td>0.172234</td>\n",
       "    </tr>\n",
       "    <tr>\n",
       "      <th>4</th>\n",
       "      <td>2.620741</td>\n",
       "      <td>7.730614</td>\n",
       "      <td>2.802039</td>\n",
       "      <td>18</td>\n",
       "      <td>462</td>\n",
       "      <td>22</td>\n",
       "      <td>2.890372</td>\n",
       "      <td>6.135565</td>\n",
       "      <td>3.091042</td>\n",
       "      <td>0.162576</td>\n",
       "    </tr>\n",
       "  </tbody>\n",
       "</table>\n",
       "</div>"
      ],
      "text/plain": [
       "   radius_cr  length_cr  shield_cr  Radius  Length  Shield  log_radius  \\\n",
       "0   3.072317   3.301927   3.530348      29      36      44    3.367296   \n",
       "1   3.448217   4.497941   3.979057      41      91      63    3.713572   \n",
       "2   1.442250   4.732623   2.884499       3     106      24    1.098612   \n",
       "3   3.583048   5.217103   4.198336      46     142      74    3.828641   \n",
       "4   2.620741   7.730614   2.802039      18     462      22    2.890372   \n",
       "\n",
       "   log_length  log_shield  Reflection Probability  \n",
       "0    3.583519    3.784190                0.139221  \n",
       "1    4.510860    4.143135                0.165289  \n",
       "2    4.663439    3.178054                0.109648  \n",
       "3    4.955827    4.304065                0.172234  \n",
       "4    6.135565    3.091042                0.162576  "
      ]
     },
     "execution_count": 23,
     "metadata": {},
     "output_type": "execute_result"
    }
   ],
   "source": [
    "df_fx = pd.concat([df4.iloc[:,0:3],df3],axis=1)\n",
    "df_fx.head()"
   ]
  },
  {
   "cell_type": "code",
   "execution_count": 24,
   "metadata": {},
   "outputs": [
    {
     "name": "stdout",
     "output_type": "stream",
     "text": [
      "(100, 9) (100,)\n"
     ]
    }
   ],
   "source": [
    "Xf = np.array(df_fx.iloc[:,0:9])\n",
    "yf= np.array(df_fx['Reflection Probability'])\n",
    "print(Xf.shape,yf.shape)"
   ]
  },
  {
   "cell_type": "code",
   "execution_count": 25,
   "metadata": {},
   "outputs": [
    {
     "name": "stdout",
     "output_type": "stream",
     "text": [
      "Intercept: -0.4222978297482162\n",
      "Radius Coeff: -0.16823331772619118\n",
      "Length Coeff: -0.09659384739402721\n",
      "Shield Coeff: 1.0349825684661738\n",
      "Log Radius Coeff: 0.0017147490575979499\n",
      "Log Length Coeff: 0.00026870827141726875\n",
      "Log Shield Coeff: -0.010689207993424597\n",
      "CR Radius Coeff: 0.0017147490575979499\n",
      "CR Length Coeff: 0.00026870827141726875\n",
      "CR Shield Coeff: -0.010689207993424597\n",
      "R-squared score (training set): 0.8137645049959573\n",
      "R-squared score (test set): 0.883640075627418\n"
     ]
    }
   ],
   "source": [
    "Xf_train,Xf_test,yf_train,yf_test= train_test_split(Xf,yf,random_state=0)\n",
    "linregf = LinearRegression().fit(Xf_train, yf_train)\n",
    "print('Intercept: {}'.format(linregf.intercept_))\n",
    "print('Radius Coeff: {}'.format(linregf.coef_[0]))\n",
    "print('Length Coeff: {}'.format(linregf.coef_[1]))\n",
    "print('Shield Coeff: {}'.format(linregf.coef_[2]))\n",
    "print('Log Radius Coeff: {}'.format(linregf.coef_[3]))\n",
    "print('Log Length Coeff: {}'.format(linregf.coef_[4]))\n",
    "print('Log Shield Coeff: {}'.format(linregf.coef_[5]))\n",
    "print('CR Radius Coeff: {}'.format(linregf.coef_[3]))\n",
    "print('CR Length Coeff: {}'.format(linregf.coef_[4]))\n",
    "print('CR Shield Coeff: {}'.format(linregf.coef_[5]))\n",
    "print('R-squared score (training set): {}'.format(linregf.score(Xf_train, yf_train)))\n",
    "print('R-squared score (test set): {}'.format(linregf.score(Xf_test, yf_test)))"
   ]
  },
  {
   "cell_type": "code",
   "execution_count": 40,
   "metadata": {},
   "outputs": [
    {
     "name": "stdout",
     "output_type": "stream",
     "text": [
      "Accuracy on Test Set : 88.36  %\n"
     ]
    }
   ],
   "source": [
    "from sklearn.metrics import r2_score\n",
    "predict_train = linregf.predict(Xf_train)\n",
    "predict_test = linregf.predict(Xf_test)\n",
    "score = r2_score(yf_test, predict_test)\n",
    "print(\"Accuracy on Test Set : {:.2f} \".format(100*score),\"%\")"
   ]
  },
  {
   "cell_type": "code",
   "execution_count": 41,
   "metadata": {},
   "outputs": [
    {
     "data": {
      "text/html": [
       "<div>\n",
       "<table border=\"1\" class=\"dataframe\">\n",
       "  <thead>\n",
       "    <tr style=\"text-align: right;\">\n",
       "      <th></th>\n",
       "      <th>radius_cr</th>\n",
       "      <th>length_cr</th>\n",
       "      <th>shield_cr</th>\n",
       "      <th>radius_nir</th>\n",
       "      <th>length_nir</th>\n",
       "      <th>shield_nir</th>\n",
       "      <th>Radius</th>\n",
       "      <th>Length</th>\n",
       "      <th>Shield</th>\n",
       "      <th>log_radius</th>\n",
       "      <th>log_length</th>\n",
       "      <th>log_shield</th>\n",
       "      <th>Reflection Probability</th>\n",
       "    </tr>\n",
       "  </thead>\n",
       "  <tbody>\n",
       "    <tr>\n",
       "      <th>0</th>\n",
       "      <td>3.072317</td>\n",
       "      <td>3.301927</td>\n",
       "      <td>3.530348</td>\n",
       "      <td>-5.385165</td>\n",
       "      <td>-6.000000</td>\n",
       "      <td>-6.633250</td>\n",
       "      <td>29</td>\n",
       "      <td>36</td>\n",
       "      <td>44</td>\n",
       "      <td>3.367296</td>\n",
       "      <td>3.583519</td>\n",
       "      <td>3.784190</td>\n",
       "      <td>0.139221</td>\n",
       "    </tr>\n",
       "    <tr>\n",
       "      <th>1</th>\n",
       "      <td>3.448217</td>\n",
       "      <td>4.497941</td>\n",
       "      <td>3.979057</td>\n",
       "      <td>-6.403124</td>\n",
       "      <td>-9.539392</td>\n",
       "      <td>-7.937254</td>\n",
       "      <td>41</td>\n",
       "      <td>91</td>\n",
       "      <td>63</td>\n",
       "      <td>3.713572</td>\n",
       "      <td>4.510860</td>\n",
       "      <td>4.143135</td>\n",
       "      <td>0.165289</td>\n",
       "    </tr>\n",
       "    <tr>\n",
       "      <th>2</th>\n",
       "      <td>1.442250</td>\n",
       "      <td>4.732623</td>\n",
       "      <td>2.884499</td>\n",
       "      <td>-1.732051</td>\n",
       "      <td>-10.295630</td>\n",
       "      <td>-4.898979</td>\n",
       "      <td>3</td>\n",
       "      <td>106</td>\n",
       "      <td>24</td>\n",
       "      <td>1.098612</td>\n",
       "      <td>4.663439</td>\n",
       "      <td>3.178054</td>\n",
       "      <td>0.109648</td>\n",
       "    </tr>\n",
       "    <tr>\n",
       "      <th>3</th>\n",
       "      <td>3.583048</td>\n",
       "      <td>5.217103</td>\n",
       "      <td>4.198336</td>\n",
       "      <td>-6.782330</td>\n",
       "      <td>-11.916375</td>\n",
       "      <td>-8.602325</td>\n",
       "      <td>46</td>\n",
       "      <td>142</td>\n",
       "      <td>74</td>\n",
       "      <td>3.828641</td>\n",
       "      <td>4.955827</td>\n",
       "      <td>4.304065</td>\n",
       "      <td>0.172234</td>\n",
       "    </tr>\n",
       "    <tr>\n",
       "      <th>4</th>\n",
       "      <td>2.620741</td>\n",
       "      <td>7.730614</td>\n",
       "      <td>2.802039</td>\n",
       "      <td>-4.242641</td>\n",
       "      <td>-21.494185</td>\n",
       "      <td>-4.690416</td>\n",
       "      <td>18</td>\n",
       "      <td>462</td>\n",
       "      <td>22</td>\n",
       "      <td>2.890372</td>\n",
       "      <td>6.135565</td>\n",
       "      <td>3.091042</td>\n",
       "      <td>0.162576</td>\n",
       "    </tr>\n",
       "  </tbody>\n",
       "</table>\n",
       "</div>"
      ],
      "text/plain": [
       "   radius_cr  length_cr  shield_cr  radius_nir  length_nir  shield_nir  \\\n",
       "0   3.072317   3.301927   3.530348   -5.385165   -6.000000   -6.633250   \n",
       "1   3.448217   4.497941   3.979057   -6.403124   -9.539392   -7.937254   \n",
       "2   1.442250   4.732623   2.884499   -1.732051  -10.295630   -4.898979   \n",
       "3   3.583048   5.217103   4.198336   -6.782330  -11.916375   -8.602325   \n",
       "4   2.620741   7.730614   2.802039   -4.242641  -21.494185   -4.690416   \n",
       "\n",
       "   Radius  Length  Shield  log_radius  log_length  log_shield  \\\n",
       "0      29      36      44    3.367296    3.583519    3.784190   \n",
       "1      41      91      63    3.713572    4.510860    4.143135   \n",
       "2       3     106      24    1.098612    4.663439    3.178054   \n",
       "3      46     142      74    3.828641    4.955827    4.304065   \n",
       "4      18     462      22    2.890372    6.135565    3.091042   \n",
       "\n",
       "   Reflection Probability  \n",
       "0                0.139221  \n",
       "1                0.165289  \n",
       "2                0.109648  \n",
       "3                0.172234  \n",
       "4                0.162576  "
      ]
     },
     "execution_count": 41,
     "metadata": {},
     "output_type": "execute_result"
    }
   ],
   "source": [
    "dfX =  pd.concat([df4,df3],axis=1)\n",
    "dfX.head()"
   ]
  },
  {
   "cell_type": "code",
   "execution_count": 42,
   "metadata": {},
   "outputs": [
    {
     "name": "stdout",
     "output_type": "stream",
     "text": [
      "(100, 12) (100,)\n"
     ]
    }
   ],
   "source": [
    "Xm = np.array(dfX.iloc[:,0:12])\n",
    "ym= np.array(dfX['Reflection Probability'])\n",
    "print(Xm.shape,ym.shape)"
   ]
  },
  {
   "cell_type": "code",
   "execution_count": 43,
   "metadata": {},
   "outputs": [
    {
     "name": "stdout",
     "output_type": "stream",
     "text": [
      "Intercept: -8.84522560251936\n",
      "Radius Coeff: -1.6829195401668406\n",
      "Length Coeff: 0.4145789306121474\n",
      "Shield Coeff: 16.04362028822127\n",
      "Log Radius Coeff: -0.5924440994785449\n",
      "Log Length Coeff: 0.14111872682805027\n",
      "Log Shield Coeff: 5.013002264490933\n",
      "CR Radius Coeff: -0.008238805149620804\n",
      "CR Length Coeff: 0.0010837208248309915\n",
      "CR Shield Coeff: 0.044184480720184674\n",
      "R Radius Coeff: 0.36761632174291137\n",
      "R Length Coeff: -0.02935795825102616\n",
      "R Shield Coeff: -4.181488224888099\n",
      "R-squared score (training set): 0.819101869084822\n",
      "R-squared score (test set): 0.840304559422796\n"
     ]
    }
   ],
   "source": [
    "Xm_train,Xm_test,ym_train,ym_test= train_test_split(Xm,ym,random_state=0)\n",
    "linregm = LinearRegression().fit(Xm_train, ym_train)\n",
    "print('Intercept: {}'.format(linregm.intercept_))\n",
    "print('Radius Coeff: {}'.format(linregm.coef_[0]))\n",
    "print('Length Coeff: {}'.format(linregm.coef_[1]))\n",
    "print('Shield Coeff: {}'.format(linregm.coef_[2]))\n",
    "print('Log Radius Coeff: {}'.format(linregm.coef_[3]))\n",
    "print('Log Length Coeff: {}'.format(linregm.coef_[4]))\n",
    "print('Log Shield Coeff: {}'.format(linregm.coef_[5]))\n",
    "print('CR Radius Coeff: {}'.format(linregm.coef_[6]))\n",
    "print('CR Length Coeff: {}'.format(linregm.coef_[7]))\n",
    "print('CR Shield Coeff: {}'.format(linregm.coef_[8]))\n",
    "print('R Radius Coeff: {}'.format(linregm.coef_[9]))\n",
    "print('R Length Coeff: {}'.format(linregm.coef_[10]))\n",
    "print('R Shield Coeff: {}'.format(linregm.coef_[11]))\n",
    "print('R-squared score (training set): {}'.format(linregm.score(Xm_train, ym_train)))\n",
    "print('R-squared score (test set): {}'.format(linregm.score(Xm_test, ym_test)))"
   ]
  },
  {
   "cell_type": "code",
   "execution_count": 44,
   "metadata": {},
   "outputs": [
    {
     "name": "stdout",
     "output_type": "stream",
     "text": [
      "R-squared test score X: -0.820891830170104\n",
      "R-squared test score X: -0.6288825661203508\n",
      "R-squared test score X: -0.2656397216348332\n",
      "R-squared test score X: -0.2164310512259089\n",
      "R-squared test score X: -0.10012757615811085\n",
      "R-squared test score X: -0.09152631634245201\n",
      "\n",
      "R-squared test score Xm: 0.20660368605262025\n",
      "R-squared test score Xm: 0.2755489710587088\n",
      "R-squared test score Xm: 0.3698100932927506\n",
      "R-squared test score Xm: 0.3982517160665001\n",
      "R-squared test score Xm: 0.33690958718760833\n",
      "R-squared test score Xm: 0.3119300559660062\n",
      "\n",
      "R-squared test score Xf: 0.20660368605262025\n",
      "R-squared test score Xf: 0.2755489710587088\n",
      "R-squared test score Xf: 0.3698100932927506\n",
      "R-squared test score Xf: 0.3982517160665001\n",
      "R-squared test score Xf: 0.33690958718760833\n",
      "R-squared test score Xf: 0.3119850192952839\n"
     ]
    }
   ],
   "source": [
    "#use df_fx: log + cube_root fxs\n",
    "from sklearn.neighbors import KNeighborsRegressor\n",
    "\n",
    "for i in range(6):\n",
    "    knnreg = KNeighborsRegressor(n_neighbors = i+1).fit(X_train, y_train)\n",
    "    print('R-squared test score X: {}'.format(knnreg.score(X_test, y_test)))\n",
    "\n",
    "print('')\n",
    "for i in range(6):\n",
    "    knnreg = KNeighborsRegressor(n_neighbors = i+1).fit(Xf_train, yf_train)\n",
    "    print('R-squared test score Xm: {}'.format(knnreg.score(Xf_test, yf_test)))\n",
    "\n",
    "print('')\n",
    "for i in range(6):\n",
    "    knnreg = KNeighborsRegressor(n_neighbors = i+1).fit(Xm_train, ym_train)\n",
    "    print('R-squared test score Xf: {}'.format(knnreg.score(Xm_test, ym_test)))  "
   ]
  },
  {
   "cell_type": "code",
   "execution_count": 46,
   "metadata": {},
   "outputs": [
    {
     "name": "stderr",
     "output_type": "stream",
     "text": [
      "/anaconda/lib/python3.6/site-packages/sklearn/ensemble/forest.py:723: UserWarning: Some inputs do not have OOB scores. This probably means too few trees were used to compute any reliable oob estimates.\n",
      "  warn(\"Some inputs do not have OOB scores. \"\n"
     ]
    },
    {
     "name": "stdout",
     "output_type": "stream",
     "text": [
      "Number of Trees =10\n",
      "RF accuracy: TRAINING 0.9397714511667503\n",
      "RF accuracy: TESTING 0.7664145643726753\n",
      "Number of Trees =50\n",
      "RF accuracy: TRAINING 0.964842352108225\n",
      "RF accuracy: TESTING 0.7680172514694283\n",
      "Number of Trees =100\n",
      "RF accuracy: TRAINING 0.9677228701858548\n",
      "RF accuracy: TESTING 0.7777270114749233\n",
      "Number of Trees =200\n",
      "RF accuracy: TRAINING 0.9677016000959663\n",
      "RF accuracy: TESTING 0.7888840314140144\n",
      "Number of Trees =300\n",
      "RF accuracy: TRAINING 0.9666576596931721\n",
      "RF accuracy: TESTING 0.7911643951166651\n",
      "Number of Trees =500\n",
      "RF accuracy: TRAINING 0.9657534245022351\n",
      "RF accuracy: TESTING 0.7905007329571643\n",
      "Number of Trees =1000\n",
      "RF accuracy: TRAINING 0.9670666407371447\n",
      "RF accuracy: TESTING 0.790021673365703\n"
     ]
    }
   ],
   "source": [
    "from sklearn.ensemble import RandomForestRegressor\n",
    "from sklearn.datasets import make_regression\n",
    "from sklearn.metrics import accuracy_score\n",
    "from sklearn.metrics import r2_score\n",
    "\n",
    "for i in [10,50,100,200,300,500,1000]:\n",
    "    rf = RandomForestRegressor(n_estimators=i, oob_score=True, random_state=0)\n",
    "    rf.fit(Xf_train, yf_train)\n",
    "\n",
    "    predicted_train = rf.predict(Xf_train)\n",
    "    predicted_test = rf.predict(Xf_test)\n",
    "    test_score = r2_score(yf_test, predicted_test)\n",
    "    \n",
    "    print('Number of Trees =' + str(i))\n",
    "    print ('RF accuracy: TRAINING', rf.score(Xf_train,yf_train))\n",
    "    print ('RF accuracy: TESTING', rf.score(Xf_test,yf_test))"
   ]
  },
  {
   "cell_type": "code",
   "execution_count": 47,
   "metadata": {},
   "outputs": [
    {
     "data": {
      "image/png": "[encoded data removed]",
      "text/plain": [
       "<matplotlib.figure.Figure at 0x116d18b38>"
      ]
     },
     "metadata": {},
     "output_type": "display_data"
    }
   ],
   "source": [
    "plt.figure()\n",
    "fig = plt.scatter(yf_test,predicted_test, s=75, alpha=.4)\n",
    "fig.set_facecolor('red')\n",
    "plt.grid(False)\n",
    "plt.show()"
   ]
  },
  {
   "cell_type": "code",
   "execution_count": 48,
   "metadata": {},
   "outputs": [
    {
     "data": {
      "image/png": "[encoded data removed]",
      "text/plain": [
       "<matplotlib.figure.Figure at 0x116f875f8>"
      ]
     },
     "metadata": {},
     "output_type": "display_data"
    }
   ],
   "source": [
    "plt.figure()\n",
    "fig = plt.scatter(yf_train,predicted_train, s=75, alpha=.4)\n",
    "fig.set_facecolor('green')\n",
    "plt.grid(False)\n",
    "plt.show()"
   ]
  }
 ],
 "metadata": {
  "kernelspec": {
   "display_name": "Python 3",
   "language": "python",
   "name": "python3"
  },
  "language_info": {
   "codemirror_mode": {
    "name": "ipython",
    "version": 3
   },
   "file_extension": ".py",
   "mimetype": "text/x-python",
   "name": "python",
   "nbconvert_exporter": "python",
   "pygments_lexer": "ipython3",
   "version": "3.6.3"
  }
 },
 "nbformat": 4,
 "nbformat_minor": 2
}
